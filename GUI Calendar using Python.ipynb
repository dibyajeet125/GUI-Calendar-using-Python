{
 "cells": [
  {
   "cell_type": "code",
   "execution_count": 1,
   "id": "bf287da1",
   "metadata": {},
   "outputs": [
    {
     "name": "stdout",
     "output_type": "stream",
     "text": [
      "Enter the Year: 2024\n"
     ]
    }
   ],
   "source": [
    "from tkinter import *\n",
    "import calendar\n",
    "\n",
    "n = int(input(\"Enter the Year: \"))\n",
    "text = calendar.calendar(n)\n",
    "root = Tk()\n",
    "root.geometry(\"550x600\")\n",
    "root.title(\"Calendar\")\n",
    "label1 = Label(root, text=\"Calendar \"+str(n), bg=\"dark grey\", font=(\"consolas\", 28, \"bold\"))\n",
    "label1.grid(row=1, column=1)\n",
    "root.config(background=\"white\")\n",
    "l1 = Label(root, text=text, font=(\"consolas\", 10, \"bold\"))\n",
    "l1.grid(row=2, column=1, padx=10)\n",
    "root.mainloop()"
   ]
  },
  {
   "cell_type": "code",
   "execution_count": null,
   "id": "d3f30fb3",
   "metadata": {},
   "outputs": [],
   "source": []
  }
 ],
 "metadata": {
  "kernelspec": {
   "display_name": "Python 3 (ipykernel)",
   "language": "python",
   "name": "python3"
  },
  "language_info": {
   "codemirror_mode": {
    "name": "ipython",
    "version": 3
   },
   "file_extension": ".py",
   "mimetype": "text/x-python",
   "name": "python",
   "nbconvert_exporter": "python",
   "pygments_lexer": "ipython3",
   "version": "3.11.4"
  }
 },
 "nbformat": 4,
 "nbformat_minor": 5
}
